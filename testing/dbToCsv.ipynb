{
 "cells": [
  {
   "cell_type": "code",
   "execution_count": 1,
   "id": "71b72338-5484-4118-ade6-11edbffdccc8",
   "metadata": {},
   "outputs": [],
   "source": [
    "import streamlit as st\n",
    "import time\n",
    "import re\n",
    "import random\n",
    "from pymongo.mongo_client import MongoClient\n",
    "import pandas as pd\n",
    "import json\n",
    "import random\n",
    "import tqdm as tqdm\n",
    "import string\n",
    "from datetime import datetime\n"
   ]
  },
  {
   "cell_type": "code",
   "execution_count": 2,
   "id": "7cd30836-c1fa-490b-9154-a8f681b20b12",
   "metadata": {},
   "outputs": [],
   "source": [
    "uri = st.secrets[\"mongo\"]['uri']\n",
    "client = MongoClient(uri)\n",
    "db = client[\"Replication\"]\n",
    "collexp_code = db.exp_code"
   ]
  },
  {
   "cell_type": "code",
   "execution_count": 3,
   "id": "174b49a8-3fba-4bda-b1d5-d4ef3e84f563",
   "metadata": {},
   "outputs": [],
   "source": [
    "def getRecord(key):\n",
    "    # Query for documents where the key exists\n",
    "    documents = collexp_code.find({key: {\"$exists\": True}})\n",
    "    # Iterate over the documents and print the values for the key\n",
    "    for doc in documents:\n",
    "        if key in doc:\n",
    "            return doc[key]\n",
    "        else:\n",
    "            return None"
   ]
  },
  {
   "cell_type": "code",
   "execution_count": 4,
   "id": "0fee171c",
   "metadata": {},
   "outputs": [
    {
     "name": "stderr",
     "output_type": "stream",
     "text": [
      "100%|██████████| 300/300 [00:58<00:00,  5.10it/s]\n"
     ]
    }
   ],
   "source": [
    "# Retrieve a sample of documents\n",
    "documents = collexp_code.find()  # Adjust the limit as needed\n",
    "\n",
    "# Extract keys from the documents\n",
    "keys = []\n",
    "for document in documents:\n",
    "    keys.append(document.keys())\n",
    "\n",
    "keys = [list(key)[1] for key in keys]\n",
    "\n",
    "#store each record\n",
    "rec = []\n",
    "for key in tqdm.tqdm(keys):\n",
    "    rec.append(json.loads(getRecord(key)))\n"
   ]
  },
  {
   "cell_type": "code",
   "execution_count": 5,
   "id": "be32c6f0",
   "metadata": {},
   "outputs": [],
   "source": [
    "#normalise all records to dataframe\n",
    "df = pd.json_normalize(json.loads(json.dumps(rec)))"
   ]
  },
  {
   "cell_type": "code",
   "execution_count": 6,
   "id": "0013dc67",
   "metadata": {},
   "outputs": [],
   "source": [
    "#data processing processing dialogue and extracting choice data, response time,\n",
    "# overall interaction time, and choice correspondance\n",
    "def analyse_chat(chatObject, expcode, chat):\n",
    "    \n",
    "    SCN = expcode.split('_')[1].split('&')[chat].split(\"$\")[0]\n",
    "    CND = expcode.split('_')[1].split('&')[chat].split(\"$\")[1]\n",
    "\n",
    "    time_format = \"%Y-%m-%d %H:%M:%S\"\n",
    "    choiceCorr = chatObject[-2]['content']\n",
    "    overall_time_a = chatObject[0]['timestamp']\n",
    "    overall_time_b = chatObject[-1]['timestamp']\n",
    "    response_time_a = chatObject[-3]['timestamp']\n",
    "    response_time_b = chatObject[-2]['timestamp']\n",
    "\n",
    "    overall_time_a = datetime.strptime(overall_time_a, time_format)\n",
    "    overall_time_b = datetime.strptime(overall_time_b, time_format)\n",
    "    overall_time = (overall_time_b - overall_time_a).total_seconds()\n",
    "\n",
    "    response_time_a = datetime.strptime(response_time_a, time_format)\n",
    "    response_time_b = datetime.strptime(response_time_b, time_format)\n",
    "    choiceCorr_time = (response_time_b - response_time_a).total_seconds()\n",
    "   \n",
    "\n",
    "    return [SCN, CND, choiceCorr, choiceCorr_time, overall_time]\n",
    "\n",
    "def formated_data(chat1, chat2, chat3, expcode):\n",
    "\n",
    "    a = analyse_chat(chat1, expcode=expcode, chat=0)\n",
    "    b = analyse_chat(chat2, expcode=expcode, chat=1)\n",
    "    c = analyse_chat(chat3, expcode=expcode, chat=2)\n",
    "\n",
    "    sc1_cond= []\n",
    "    sc2_cond = []\n",
    "    sc3_cond = []\n",
    "\n",
    "    for ar in [a, b, c]: # I am not quite confident about this chunck of code.\n",
    "        if ar[0] == 'BA':\n",
    "            sc1_cond= ar[1:]\n",
    "        if ar[0] == 'IP':\n",
    "            sc2_cond= ar[1:]\n",
    "        if ar[0] == 'CJ':\n",
    "            sc3_cond= ar[1:]\n",
    "\n",
    "    return sc1_cond + sc2_cond + sc3_cond"
   ]
  },
  {
   "cell_type": "code",
   "execution_count": 7,
   "id": "d2c07937",
   "metadata": {},
   "outputs": [],
   "source": [
    "ndf = pd.DataFrame([formated_data(df['chat1'][i], df['chat2'][i], df['chat3'][i], df['expcode'][i])\n",
    "            for i in range(0, len(df))], columns=[\"sc1_cond\", \"sc1_choice\", \"sc1_ctime\", \"sc1_otime\",\n",
    "                                                  \"sc2_cond\", \"sc2_choice\", \"sc2_ctime\", \"sc2_otime\",\n",
    "                                                  \"sc3_cond\", \"sc3_choice\", \"sc3_ctime\", \"sc_otime\"\n",
    "])"
   ]
  },
  {
   "cell_type": "code",
   "execution_count": 8,
   "id": "0e3ad718",
   "metadata": {},
   "outputs": [],
   "source": [
    "# Find the index of the column after which to insert the new column\n",
    "insert_loc = df.columns.get_loc('chat3') + 1\n",
    "# Split df1 into two parts\n",
    "df1_part1 = df.iloc[:, :insert_loc]\n",
    "df1_part2 = df.iloc[:, insert_loc:]\n",
    "\n",
    "df_demographics = pd.read_csv(\"demographics.csv\")\n",
    "\n",
    "# Concatenate the parts and df2\n",
    "result = pd.concat([df1_part1, ndf, df1_part2, df_demographics.iloc[:, 1:]], axis=1)"
   ]
  },
  {
   "cell_type": "code",
   "execution_count": 9,
   "id": "28e4fbd3",
   "metadata": {},
   "outputs": [],
   "source": [
    "result.to_csv('final_data.csv', sep=',', encoding='utf-8')"
   ]
  },
  {
   "cell_type": "code",
   "execution_count": null,
   "id": "39419e9b",
   "metadata": {},
   "outputs": [],
   "source": []
  }
 ],
 "metadata": {
  "kernelspec": {
   "display_name": "Python 3 (ipykernel)",
   "language": "python",
   "name": "python3"
  },
  "language_info": {
   "codemirror_mode": {
    "name": "ipython",
    "version": 3
   },
   "file_extension": ".py",
   "mimetype": "text/x-python",
   "name": "python",
   "nbconvert_exporter": "python",
   "pygments_lexer": "ipython3",
   "version": "3.11.5"
  }
 },
 "nbformat": 4,
 "nbformat_minor": 5
}
